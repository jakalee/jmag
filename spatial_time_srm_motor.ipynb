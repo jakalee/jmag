{
 "cells": [
  {
   "cell_type": "code",
   "execution_count": 1,
   "metadata": {
    "collapsed": false,
    "jupyter": {
     "outputs_hidden": false
    }
   },
   "outputs": [
    {
     "name": "stdout",
     "output_type": "stream",
     "text": [
      "Populating the interactive namespace from numpy and matplotlib\n"
     ]
    }
   ],
   "source": [
    "%pylab inline"
   ]
  },
  {
   "cell_type": "code",
   "execution_count": 2,
   "metadata": {},
   "outputs": [],
   "source": [
    "import numpy as np\n",
    "from scipy.signal import sawtooth\n",
    "pi=np.pi\n",
    "sin=np.sin\n",
    "Ns=6\n",
    "Nr=4\n",
    "Nph=3\n",
    "pp=Ns/Nph/2\n",
    "p_peak=10**6\n",
    "rpm=3000\n",
    "f_base=rpm/60;\n",
    "delta=round(2**10/Nph/Nr);\n",
    "q_max=round(20000/f_base);\n",
    "\n",
    "if q_max>400:\n",
    "    q_max=400\n",
    "\n",
    "circ_max=12\n",
    "T_mech_rev=0.01\n",
    "\n",
    "\n",
    "t_series_elec_revo=np.arange(0,T_mech_rev/Nr,T_mech_rev/delta/Nph/Nr)\n",
    "t_series_mech_revo=np.arange(0,T_mech_rev,T_mech_rev/delta/Nph/Nr)\n",
    "\n",
    "\n",
    "sp_series=np.arange(0,2*pi,2*pi/delta/Ns)\n",
    "\n",
    "radial_wave=abs(sin(Ns/2*sp_series))\n",
    "\n",
    "radial_pressure_elec_revo=np.array([])\n",
    "radial_pressure_mech_revo=np.array([])\n",
    "\n",
    "for j in np.arange(1,Nph+1):\n",
    "    ph_A=(sawtooth(Ns/Nph*sp_series+2*(-j+Nph)*pi/Nph)+1)/2   \n",
    "    radial_A=p_peak*(ph_A>float(Nph-1)/Nph)*radial_wave   #np.where(ph_A>float(Nph-1)/Nph,1,0)\n",
    "    #radial_pressure_elec_revo=radial_A\n",
    "    #radial_pressure_mech_revo=radial_pressure_elec_revo\n",
    "    if j <Nph:\n",
    "        for i in np.arange(1,round(len(t_series_elec_revo)/Nph)+1):\n",
    "            radial_pressure_elec_revo=np.vstack((radial_pressure_elec_revo,radial_A)) if radial_pressure_elec_revo.size else radial_A\n",
    "    else:\n",
    "        \n",
    "        for i in np.arange(1,len(t_series_elec_revo)-round(len(t_series_elec_revo)/Nph)*(Nph-1)+1):\n",
    "\n",
    "            radial_pressure_elec_revo=np.vstack((radial_pressure_elec_revo,radial_A)) if radial_pressure_elec_revo.size else radial_A\n",
    "\n",
    "for i in np.arange(1,Nr+1):\n",
    "    \n",
    "    radial_pressure_mech_revo=np.vstack((radial_pressure_mech_revo,radial_pressure_elec_revo)) if radial_pressure_mech_revo.size else radial_pressure_elec_revo\n",
    "\n",
    "\n",
    "factor_over_time=abs(sin(t_series_mech_revo/T_mech_rev*Nph*Nr*pi));\n",
    "factor_over_time=factor_over_time[:,np.newaxis]\n",
    "matrix_over_time=np.array([])\n",
    "    \n",
    "\n",
    "for i in np.arange(1,len(sp_series)+1):\n",
    "\n",
    "    matrix_over_time=np.hstack((matrix_over_time,factor_over_time)) if matrix_over_time.size else factor_over_time\n",
    "\n",
    "radial_pressure_mech_revo=matrix_over_time*radial_pressure_mech_revo"
   ]
  },
  {
   "cell_type": "code",
   "execution_count": null,
   "metadata": {},
   "outputs": [],
   "source": [
    "%matplotlib inline\n",
    "\n",
    "from matplotlib import cm\n",
    "from mpl_toolkits.mplot3d import Axes3D\n",
    "from scipy.interpolate import interp2d\n",
    "\n",
    "zfun=interp2d(sp_series,t_series_mech_revo,radial_pressure_mech_revo)\n",
    "radial_surface_sparse=zfun(sp_series[::2**3],t_series_mech_revo[::2**3])\n",
    "\n",
    "sp_plane,time_plane=np.meshgrid(np.arange(len(sp_series[::2**3])),np.arange(len(t_series_mech_revo[::2**3])))\n",
    "\n",
    "\n",
    "\n",
    "fig = plt.figure(facecolor='w',figsize=(15,8))\n",
    "ax = plt.axes(projection='3d')\n",
    "ax.pbaspect = [1, 2,0.5]\n",
    "xxx=sp_plane#/2/np.pi*360\n",
    "yyy=time_plane\n",
    "zzz=radial_surface_sparse\n",
    "im=ax.plot_surface(xxx,yyy,zzz,rstride=1,cstride=1,alpha=0.5,cmap='jet',edgecolor='k')\n",
    "ax.view_init(35,-106)\n",
    "ax.set_xlabel(u'aa')\n",
    "ax.set_zlim([0,p_peak*1.5])\n",
    "plt.tight_layout()\n",
    "#ax.autoscale('False')\n",
    "\n",
    "#plt.colorbar(im,shrink=0.5)\n",
    "plt.show()"
   ]
  },
  {
   "cell_type": "code",
   "execution_count": 3,
   "metadata": {},
   "outputs": [],
   "source": [
    "import ipyvolume as ipv\n",
    "from scipy.interpolate import interp2d\n",
    "\n",
    "zfun=interp2d(sp_series,t_series_mech_revo,radial_pressure_mech_revo)\n",
    "radial_surface_sparse=zfun(sp_series[::2**3],t_series_mech_revo[::2**3])\n",
    "\n",
    "sp_plane,time_plane=np.meshgrid(np.arange(len(sp_series[::2**3])),np.arange(len(t_series_mech_revo[::2**3])))\n",
    "\n",
    "xxx=sp_plane#/2/np.pi*360\n",
    "yyy=time_plane\n",
    "zzz=radial_surface_sparse"
   ]
  },
  {
   "cell_type": "code",
   "execution_count": 4,
   "metadata": {},
   "outputs": [],
   "source": [
    "from matplotlib import cm\n",
    "colormap = cm.coolwarm\n",
    "znorm = zzz - zzz.min()\n",
    "znorm /= znorm.ptp()\n",
    "znorm.min(), znorm.max()\n",
    "color = colormap(znorm)"
   ]
  },
  {
   "cell_type": "code",
   "execution_count": 31,
   "metadata": {},
   "outputs": [
    {
     "data": {
      "application/vnd.jupyter.widget-view+json": {
       "model_id": "7d7d258b413b433a97c1d0b9e2c627e8",
       "version_major": 2,
       "version_minor": 0
      },
      "text/plain": [
       "VkJveChjaGlsZHJlbj0oRmlndXJlKGNhbWVyYT1QZXJzcGVjdGl2ZUNhbWVyYShmb3Y9NDYuMCwgcG9zaXRpb249KDAuMCwgMC4wLCAyLjApLCBxdWF0ZXJuaW9uPSgwLjAsIDAuMCwgMC4wLCDigKY=\n"
      ]
     },
     "metadata": {},
     "output_type": "display_data"
    }
   ],
   "source": [
    "ipv.figure()\n",
    "ipv.style.use('dark')\n",
    "ipv.plot_surface(xxx,yyy,zzz/100000,color=color[...,:3])\n",
    "ipv.zlim(0, 20)\n",
    "ipv.xlim(0, 128)\n",
    "ipv.ylim(0, 128)\n",
    "ipv.show()"
   ]
  },
  {
   "cell_type": "code",
   "execution_count": 26,
   "metadata": {},
   "outputs": [
    {
     "data": {
      "text/plain": [
       "63"
      ]
     },
     "execution_count": 26,
     "metadata": {},
     "output_type": "execute_result"
    }
   ],
   "source": [
    "xxx.max()"
   ]
  },
  {
   "cell_type": "code",
   "execution_count": null,
   "metadata": {},
   "outputs": [],
   "source": [
    "ftimage=np.fft.fft2(zz)\n",
    "ftimage=np.abs(np.fft.fftshift(ftimage))/ncol/nrow\n",
    "plt.figure(figsize=(10,8))\n",
    "plt.autoscale(enable=True, axis='x', tight=True)\n",
    "plt.imshow(ftimage,interpolation='none',cmap=cm.jet,vmin=0.05)\n",
    "plt.colorbar()"
   ]
  },
  {
   "cell_type": "code",
   "execution_count": null,
   "metadata": {},
   "outputs": [],
   "source": [
    "plt.figure(figsize=(8,6))\n",
    "plt.imshow(radial_surface_sparse,origin='zero',cmap=cm.jet)\n",
    "ax=plt.gca()\n",
    "ax.set_aspect('equal')\n",
    "plt.colorbar()\n",
    "plt.show()"
   ]
  },
  {
   "cell_type": "code",
   "execution_count": null,
   "metadata": {},
   "outputs": [],
   "source": []
  },
  {
   "cell_type": "code",
   "execution_count": null,
   "metadata": {},
   "outputs": [],
   "source": []
  }
 ],
 "metadata": {
  "kernelspec": {
   "display_name": "Python 2",
   "language": "python",
   "name": "python2"
  },
  "language_info": {
   "codemirror_mode": {
    "name": "ipython",
    "version": 2
   },
   "file_extension": ".py",
   "mimetype": "text/x-python",
   "name": "python",
   "nbconvert_exporter": "python",
   "pygments_lexer": "ipython2",
   "version": "2.7.17"
  }
 },
 "nbformat": 4,
 "nbformat_minor": 4
}
